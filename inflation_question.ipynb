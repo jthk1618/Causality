{
 "cells": [
  {
   "cell_type": "markdown",
   "metadata": {},
   "source": [
    "___\n",
    "# Research into Inflation\n",
    "___\n",
    "\n",
    "Commenced 17 Feb 21\n",
    "\n",
    "### TOC\n",
    "\n",
    "- [Preamble](#preamble)\n"
   ]
  },
  {
   "cell_type": "markdown",
   "metadata": {},
   "source": [
    "#### Preramble<a link=preamble><a/>\n",
    "\n",
    "Inflation is so simple but it isn't. Why am I unable to get this subject out of my mind?\n",
    "\n",
    "Let's look at some things. The business suit : gold ratio was like one to one in the 70s, and is still so today. Not the case for suits to dollars; 17:1 became 2000:1 (plusminus technology and whatnot), curiously enough, gold is at around that price. I want to know whether M2 inflation is more descriptive of actual inflation than CPI. This is a bit muddled because CPI is a measure which changes over time in terms of it's definition. However there is the added benefit that CPI actually (at least in the sentiment of it's definition) captures the change in the percieved utility of the good itself, \"independent\" of a denominating anything. This isn't the case for M2, you're simply dividing the utility by a bigger denominator and number-go-up across the board. Of course, that hasn't happened with wages since the 70s, hence the civil unrest and accounts partially for the status quo of broken stuffs. Inflation is affected by technology and population sentiment as well which makes it all the more complicated. \n",
    "\n",
    "Raoul posted a [curious set of charts on his Twitter](https://twitter.com/RaoulGMI/status/1361509921624317952), suggesting that the S&P, denominated in terms of M2 actually doesnt look so bananas:\n",
    "\n",
    "![SPX denominated in M2](images/spx_m2.png)\n",
    "\n",
    "I think the big question for me is: so what? I know that's a weird question to pose in an, ostebsilbly, outward facing research thingy, but this is really a search into why I can't get the subject off my mind. So welcome, dear reader, on this journey of ✨self discovery ✨.\n",
    "\n",
    "obviously, some part of my lizard brain suspects that this hunt into M2 and CPI inflation will yield something useful. Let's try positing the question in ifs. \n",
    "\n",
    ">If I price things in M2 and CPI and discover that M2 describes inflation better\n",
    ">Then I will... know where to place my money?\n",
    "    \n",
    "I don't think that's true. If M2 is a better descriptor, perhaps I will be able to discern some motivation behind the M2 pump? What's suggested to me by that S&P valuated in M2 chart is that we have a classic cantillion thing where buying power is simply redistributed among the new existing dollars, ultimately yielding no change. If that is the case, then the increase of M2 is potentially more than just a signal of LOLR (Lender of Last Resort), which I think is the typical intepretation of the flex. It could have some other significance. \n",
    "\n",
    "Perhaps a question I can ask is: What is achievable if the impact of M2 is obfuscated?\n",
    "\n",
    "In the case of thee S&P, I think I could also expect inflation to match the growth of stocks prices minus earning growth? I would have to throw in the rate of interest there too."
   ]
  },
  {
   "cell_type": "markdown",
   "metadata": {},
   "source": [
    "## Analytical Perspective\n",
    "\n",
    "Post-amble-pre-amble-amble\n",
    "\n",
    "#### Status quo\n",
    "\n",
    "Prices and money supply can't not affect each other. Fom the perspective of analysis, it seems quite reasonable to have some version of the cantilion effect. We can look to post war – current Japan to reject the supply, inflation connection. According to Werner, both the Japanese growth mystery and the post-growth fiscal failure mystery are resolved if you take into consideration the actions of the BoJ. To my thinking, this evidence tentatively grants to the monetary theory a lot of explanatory power (Richard Koo comes to mind). In the Japanese case, (still Assuming Werner's telling of the story) deflation, reduction of the money suuply, was used to enable political reforms which ultimately resulted in increased power/agency of the BoJ. Generalising, we can see that the FED made similar moves in the past, as well as the Reichbank - the one that enabled Hitler. The 'why' of inflation is important to this hunt since it implies some amount of 'what' as well as 'how'. \n",
    "\n",
    "Today, the inflation deflation chatter often revolves around the cost of living. In Sydney, the house price to median income is like, 4 or 5 times the level that is considerd \"overpriced\". This happened over sort of 1995 onwards. Some time in the 90s, housing was substituted out of the Aussie CPI metric for rent prices, the justification being that if you buy a place and rent it out (buy/rent another place to live), versus buy and occupy it, it all kinda works out more or less the same. After this change, housing prices skyrocketed. Rents followed, but not as dramatically. Now, being an Aussies homeowner, born millenial or thereafter is a fantasy lived out in Animal Crossing. The exacerbated K shaped development of economic recovery post quarrantine put a partial spotlight on the reality and sentiment of laymen living lay-lives; people *feel* poorer.\n",
    "\n",
    "\n",
    "\n",
    "#### Trivial Tautological Cantilion Effect\n",
    "\n",
    "The tautology in my head goes:\n",
    "\n",
    "> Prices are market derived conversion rates from money to goods/services. If the money supply available for commerce increases ceteris paribus, then more money chases the same goods and services, raising prices. But a raised offer implies the offerer has more to toss at the trade, that is to say, everyone has more money, which is to say that the real price of the traded good in question hasn't actually moved, no one is better or worse off. If a new technology or innovation is introduced which increases the amount of available utility for trade in the form of a new (othogonal to some degree) good or service and the money supply is left the same, then the same number of dollars now chases a slightly larger economy - we get \"real inflation\" and price deflation. Similarly, if a non trivial amount of this isolated economy's gold is lost in a tragic boating accident, then there has been a \"real deflation\" and naturally, price inflation since the value of the economy is reduced while the money supply chasing that value remains the same.\n",
    "\n",
    "The game being played by any entity that tinkers with money supply is twofold: 1. Match the numerator value of the economy with a suitable denominator number of units of represenation of that value. \"Approximate the value of the economy\" 2. Incentivise increases to the numerator with the short term incentive - freshly printed money (a \"big-picture\" trivial but \"not so to the individual in question\" uneven redistribution of money supply increase).\n",
    "\n",
    "The empirical evidence, according to Werner suggests that this is the appropriate role of the banks.\n",
    "\n",
    "In normal circumstances, banks ration credit since the credit market is supply determined; If they allow for market forces to choose a supply-demand equalising rate, sensible entrepreneurship will ever get credit. (Princes of the yen)\n",
    "\n",
    "pg 140  correlations usdyen and qe\n",
    "\n",
    "real gdp 205\n",
    "\n",
    "\n",
    "\n",
    "side question, denomiation matters. What are the smallest units of value? can we make it 1? "
   ]
  },
  {
   "cell_type": "code",
   "execution_count": null,
   "metadata": {},
   "outputs": [],
   "source": []
  }
 ],
 "metadata": {
  "kernelspec": {
   "display_name": "Python 3",
   "language": "python",
   "name": "python3"
  },
  "language_info": {
   "codemirror_mode": {
    "name": "ipython",
    "version": 3
   },
   "file_extension": ".py",
   "mimetype": "text/x-python",
   "name": "python",
   "nbconvert_exporter": "python",
   "pygments_lexer": "ipython3",
   "version": "3.8.5"
  }
 },
 "nbformat": 4,
 "nbformat_minor": 4
}
